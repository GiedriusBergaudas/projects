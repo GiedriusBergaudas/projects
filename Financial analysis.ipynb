{
 "cells": [
  {
   "cell_type": "markdown",
   "id": "39cf4ed6",
   "metadata": {},
   "source": [
    "# Financial analysis and rating modul\n"
   ]
  },
  {
   "cell_type": "markdown",
   "id": "833bc489",
   "metadata": {},
   "source": [
    "### Fetch Financial Data for Selected Tickers (2024)\n",
    "\n",
    "- Using yfinance, download financial statements.\n",
    "- Extract only data for the year 2024.\n",
    "- Save the combined DataFrame to a CSV file.\n"
   ]
  },
  {
   "cell_type": "code",
   "execution_count": 222,
   "id": "a536b862",
   "metadata": {},
   "outputs": [],
   "source": [
    "import yfinance as yf\n",
    "import pandas as pd\n",
    "import matplotlib.pyplot as plt\n",
    "import seaborn as sns\n",
    "import numpy as np\n",
    "import plotly.graph_objects as go"
   ]
  },
  {
   "cell_type": "code",
   "execution_count": 223,
   "id": "ab88ec97",
   "metadata": {},
   "outputs": [],
   "source": [
    "\n",
    "tickers = [\"WMT\", \"TGT\",\"COST\"]\n",
    "all_data = []\n",
    "\n",
    "for ticker in tickers:\n",
    "    stock = yf.Ticker(ticker)\n",
    "\n",
    "  \n",
    "    income = stock.financials.T\n",
    "    balance = stock.balance_sheet.T\n",
    "    cashflow = stock.cashflow.T\n",
    "\n",
    "\n",
    "    for date in income.index:\n",
    "        if date.year == 2024:\n",
    "            combined = {\n",
    "                **{f\"income_{col}\": income.loc[date, col] for col in income.columns},\n",
    "                **{f\"balance_{col}\": balance.loc[date, col] for col in balance.columns if date in balance.index},\n",
    "                **{f\"cashflow_{col}\": cashflow.loc[date, col] for col in cashflow.columns if date in cashflow.index},\n",
    "                \"Company\": ticker,\n",
    "                \"Year\": date.year,\n",
    "            }\n",
    "            all_data.append(combined)\n",
    "\n",
    "\n",
    "df = pd.DataFrame(all_data)\n",
    "cols = [\"Company\", \"Year\"] + [c for c in df.columns if c not in (\"Company\", \"Year\")]\n",
    "df = df[cols]\n",
    "\n",
    "\n",
    "df.to_csv(\"all_financials_2024.csv\", index=False)\n"
   ]
  },
  {
   "cell_type": "markdown",
   "id": "cd22d99b",
   "metadata": {},
   "source": [
    "# Doing analysis"
   ]
  },
  {
   "cell_type": "code",
   "execution_count": 224,
   "id": "907b7eda",
   "metadata": {},
   "outputs": [
    {
     "data": {
      "text/html": [
       "<div>\n",
       "<style scoped>\n",
       "    .dataframe tbody tr th:only-of-type {\n",
       "        vertical-align: middle;\n",
       "    }\n",
       "\n",
       "    .dataframe tbody tr th {\n",
       "        vertical-align: top;\n",
       "    }\n",
       "\n",
       "    .dataframe thead th {\n",
       "        text-align: right;\n",
       "    }\n",
       "</style>\n",
       "<table border=\"1\" class=\"dataframe\">\n",
       "  <thead>\n",
       "    <tr style=\"text-align: right;\">\n",
       "      <th></th>\n",
       "      <th>Company</th>\n",
       "      <th>Year</th>\n",
       "      <th>income_Tax Effect Of Unusual Items</th>\n",
       "      <th>income_Tax Rate For Calcs</th>\n",
       "      <th>income_Normalized EBITDA</th>\n",
       "      <th>income_Total Unusual Items</th>\n",
       "      <th>income_Total Unusual Items Excluding Goodwill</th>\n",
       "      <th>income_Net Income From Continuing Operation Net Minority Interest</th>\n",
       "      <th>income_Reconciled Depreciation</th>\n",
       "      <th>income_Reconciled Cost Of Revenue</th>\n",
       "      <th>...</th>\n",
       "      <th>cashflow_Change In Other Current Assets</th>\n",
       "      <th>cashflow_Stock Based Compensation</th>\n",
       "      <th>income_Gain On Sale Of Security</th>\n",
       "      <th>income_Total Other Finance Cost</th>\n",
       "      <th>balance_Preferred Stock</th>\n",
       "      <th>balance_Finished Goods</th>\n",
       "      <th>cashflow_Short Term Debt Issuance</th>\n",
       "      <th>cashflow_Purchase Of Investment</th>\n",
       "      <th>cashflow_Change In Other Working Capital</th>\n",
       "      <th>cashflow_Asset Impairment Charge</th>\n",
       "    </tr>\n",
       "  </thead>\n",
       "  <tbody>\n",
       "    <tr>\n",
       "      <th>0</th>\n",
       "      <td>WMT</td>\n",
       "      <td>2024</td>\n",
       "      <td>0.0</td>\n",
       "      <td>0.255</td>\n",
       "      <td>3.638400e+10</td>\n",
       "      <td>0.0</td>\n",
       "      <td>0.0</td>\n",
       "      <td>1.551100e+10</td>\n",
       "      <td>1.185300e+10</td>\n",
       "      <td>4.901420e+11</td>\n",
       "      <td>...</td>\n",
       "      <td>NaN</td>\n",
       "      <td>NaN</td>\n",
       "      <td>NaN</td>\n",
       "      <td>NaN</td>\n",
       "      <td>NaN</td>\n",
       "      <td>NaN</td>\n",
       "      <td>NaN</td>\n",
       "      <td>NaN</td>\n",
       "      <td>NaN</td>\n",
       "      <td>NaN</td>\n",
       "    </tr>\n",
       "    <tr>\n",
       "      <th>1</th>\n",
       "      <td>TGT</td>\n",
       "      <td>2024</td>\n",
       "      <td>0.0</td>\n",
       "      <td>0.219</td>\n",
       "      <td>8.600000e+09</td>\n",
       "      <td>NaN</td>\n",
       "      <td>NaN</td>\n",
       "      <td>4.138000e+09</td>\n",
       "      <td>2.801000e+09</td>\n",
       "      <td>7.744200e+10</td>\n",
       "      <td>...</td>\n",
       "      <td>-85000000.0</td>\n",
       "      <td>251000000.0</td>\n",
       "      <td>NaN</td>\n",
       "      <td>NaN</td>\n",
       "      <td>NaN</td>\n",
       "      <td>NaN</td>\n",
       "      <td>NaN</td>\n",
       "      <td>NaN</td>\n",
       "      <td>NaN</td>\n",
       "      <td>NaN</td>\n",
       "    </tr>\n",
       "    <tr>\n",
       "      <th>2</th>\n",
       "      <td>COST</td>\n",
       "      <td>2024</td>\n",
       "      <td>6344000.0</td>\n",
       "      <td>0.244</td>\n",
       "      <td>1.212000e+10</td>\n",
       "      <td>26000000.0</td>\n",
       "      <td>26000000.0</td>\n",
       "      <td>7.367000e+09</td>\n",
       "      <td>2.237000e+09</td>\n",
       "      <td>2.223580e+11</td>\n",
       "      <td>...</td>\n",
       "      <td>NaN</td>\n",
       "      <td>818000000.0</td>\n",
       "      <td>26000000.0</td>\n",
       "      <td>-65000000.0</td>\n",
       "      <td>0.0</td>\n",
       "      <td>1.864700e+10</td>\n",
       "      <td>928000000.0</td>\n",
       "      <td>-1.470000e+09</td>\n",
       "      <td>741000000.0</td>\n",
       "      <td>-9000000.0</td>\n",
       "    </tr>\n",
       "  </tbody>\n",
       "</table>\n",
       "<p>3 rows × 205 columns</p>\n",
       "</div>"
      ],
      "text/plain": [
       "  Company  Year  income_Tax Effect Of Unusual Items  \\\n",
       "0     WMT  2024                                 0.0   \n",
       "1     TGT  2024                                 0.0   \n",
       "2    COST  2024                           6344000.0   \n",
       "\n",
       "   income_Tax Rate For Calcs  income_Normalized EBITDA  \\\n",
       "0                      0.255              3.638400e+10   \n",
       "1                      0.219              8.600000e+09   \n",
       "2                      0.244              1.212000e+10   \n",
       "\n",
       "   income_Total Unusual Items  income_Total Unusual Items Excluding Goodwill  \\\n",
       "0                         0.0                                            0.0   \n",
       "1                         NaN                                            NaN   \n",
       "2                  26000000.0                                     26000000.0   \n",
       "\n",
       "   income_Net Income From Continuing Operation Net Minority Interest  \\\n",
       "0                                       1.551100e+10                   \n",
       "1                                       4.138000e+09                   \n",
       "2                                       7.367000e+09                   \n",
       "\n",
       "   income_Reconciled Depreciation  income_Reconciled Cost Of Revenue  ...  \\\n",
       "0                    1.185300e+10                       4.901420e+11  ...   \n",
       "1                    2.801000e+09                       7.744200e+10  ...   \n",
       "2                    2.237000e+09                       2.223580e+11  ...   \n",
       "\n",
       "   cashflow_Change In Other Current Assets  cashflow_Stock Based Compensation  \\\n",
       "0                                      NaN                                NaN   \n",
       "1                              -85000000.0                        251000000.0   \n",
       "2                                      NaN                        818000000.0   \n",
       "\n",
       "   income_Gain On Sale Of Security  income_Total Other Finance Cost  \\\n",
       "0                              NaN                              NaN   \n",
       "1                              NaN                              NaN   \n",
       "2                       26000000.0                      -65000000.0   \n",
       "\n",
       "   balance_Preferred Stock  balance_Finished Goods  \\\n",
       "0                      NaN                     NaN   \n",
       "1                      NaN                     NaN   \n",
       "2                      0.0            1.864700e+10   \n",
       "\n",
       "   cashflow_Short Term Debt Issuance  cashflow_Purchase Of Investment  \\\n",
       "0                                NaN                              NaN   \n",
       "1                                NaN                              NaN   \n",
       "2                        928000000.0                    -1.470000e+09   \n",
       "\n",
       "   cashflow_Change In Other Working Capital  cashflow_Asset Impairment Charge  \n",
       "0                                       NaN                               NaN  \n",
       "1                                       NaN                               NaN  \n",
       "2                               741000000.0                        -9000000.0  \n",
       "\n",
       "[3 rows x 205 columns]"
      ]
     },
     "execution_count": 224,
     "metadata": {},
     "output_type": "execute_result"
    }
   ],
   "source": [
    "\n",
    "df = pd.read_csv(r\"C:\\Users\\Namai\\Desktop\\Financial Analysis\\all_financials_2024.csv\")\n",
    "df.head()"
   ]
  },
  {
   "cell_type": "code",
   "execution_count": 225,
   "id": "695fcba9",
   "metadata": {},
   "outputs": [],
   "source": [
    "df = df[[\n",
    "    \"Company\", \n",
    "    \"Year\",\n",
    "    \"income_Net Income\", \n",
    "    \"balance_Stockholders Equity\",\n",
    "    \"income_EBIT\", \n",
    "    \"income_Total Revenue\", \n",
    "    \"income_Gross Profit\", \n",
    "    \"balance_Current Assets\", \n",
    "    \"balance_Current Liabilities\", \n",
    "    \"balance_Inventory\", \n",
    "    \"balance_Total Assets\", \n",
    "    \"balance_Total Liabilities Net Minority Interest\"\n",
    "]]\n"
   ]
  },
  {
   "cell_type": "code",
   "execution_count": 226,
   "id": "cfc36a6d",
   "metadata": {},
   "outputs": [],
   "source": [
    "df['Company'] = df['Company'].replace({\n",
    "    'COST': 'Costco',\n",
    "    'TGT': 'Target Corp',\n",
    "    'WMT': 'Walmart'\n",
    "})\n"
   ]
  },
  {
   "cell_type": "code",
   "execution_count": 227,
   "id": "78a2fc26",
   "metadata": {},
   "outputs": [
    {
     "data": {
      "text/html": [
       "<div>\n",
       "<style scoped>\n",
       "    .dataframe tbody tr th:only-of-type {\n",
       "        vertical-align: middle;\n",
       "    }\n",
       "\n",
       "    .dataframe tbody tr th {\n",
       "        vertical-align: top;\n",
       "    }\n",
       "\n",
       "    .dataframe thead th {\n",
       "        text-align: right;\n",
       "    }\n",
       "</style>\n",
       "<table border=\"1\" class=\"dataframe\">\n",
       "  <thead>\n",
       "    <tr style=\"text-align: right;\">\n",
       "      <th></th>\n",
       "      <th>Company</th>\n",
       "      <th>Year</th>\n",
       "      <th>income_Net Income</th>\n",
       "      <th>balance_Stockholders Equity</th>\n",
       "      <th>income_EBIT</th>\n",
       "      <th>income_Total Revenue</th>\n",
       "      <th>income_Gross Profit</th>\n",
       "      <th>balance_Current Assets</th>\n",
       "      <th>balance_Current Liabilities</th>\n",
       "      <th>balance_Inventory</th>\n",
       "      <th>balance_Total Assets</th>\n",
       "      <th>balance_Total Liabilities Net Minority Interest</th>\n",
       "    </tr>\n",
       "  </thead>\n",
       "  <tbody>\n",
       "    <tr>\n",
       "      <th>0</th>\n",
       "      <td>Walmart</td>\n",
       "      <td>2024</td>\n",
       "      <td>1.551100e+10</td>\n",
       "      <td>8.386100e+10</td>\n",
       "      <td>2.453100e+10</td>\n",
       "      <td>6.481250e+11</td>\n",
       "      <td>1.579830e+11</td>\n",
       "      <td>7.687700e+10</td>\n",
       "      <td>9.241500e+10</td>\n",
       "      <td>5.489200e+10</td>\n",
       "      <td>2.523990e+11</td>\n",
       "      <td>1.618280e+11</td>\n",
       "    </tr>\n",
       "    <tr>\n",
       "      <th>1</th>\n",
       "      <td>Target Corp</td>\n",
       "      <td>2024</td>\n",
       "      <td>4.138000e+09</td>\n",
       "      <td>1.343200e+10</td>\n",
       "      <td>5.799000e+09</td>\n",
       "      <td>1.074120e+11</td>\n",
       "      <td>2.958400e+10</td>\n",
       "      <td>1.749800e+10</td>\n",
       "      <td>1.930400e+10</td>\n",
       "      <td>1.188600e+10</td>\n",
       "      <td>5.535600e+10</td>\n",
       "      <td>4.192400e+10</td>\n",
       "    </tr>\n",
       "    <tr>\n",
       "      <th>2</th>\n",
       "      <td>Costco</td>\n",
       "      <td>2024</td>\n",
       "      <td>7.367000e+09</td>\n",
       "      <td>2.362200e+10</td>\n",
       "      <td>9.909000e+09</td>\n",
       "      <td>2.544530e+11</td>\n",
       "      <td>3.209500e+10</td>\n",
       "      <td>3.424600e+10</td>\n",
       "      <td>3.546400e+10</td>\n",
       "      <td>1.864700e+10</td>\n",
       "      <td>6.983100e+10</td>\n",
       "      <td>4.620900e+10</td>\n",
       "    </tr>\n",
       "  </tbody>\n",
       "</table>\n",
       "</div>"
      ],
      "text/plain": [
       "       Company  Year  income_Net Income  balance_Stockholders Equity  \\\n",
       "0      Walmart  2024       1.551100e+10                 8.386100e+10   \n",
       "1  Target Corp  2024       4.138000e+09                 1.343200e+10   \n",
       "2       Costco  2024       7.367000e+09                 2.362200e+10   \n",
       "\n",
       "    income_EBIT  income_Total Revenue  income_Gross Profit  \\\n",
       "0  2.453100e+10          6.481250e+11         1.579830e+11   \n",
       "1  5.799000e+09          1.074120e+11         2.958400e+10   \n",
       "2  9.909000e+09          2.544530e+11         3.209500e+10   \n",
       "\n",
       "   balance_Current Assets  balance_Current Liabilities  balance_Inventory  \\\n",
       "0            7.687700e+10                 9.241500e+10       5.489200e+10   \n",
       "1            1.749800e+10                 1.930400e+10       1.188600e+10   \n",
       "2            3.424600e+10                 3.546400e+10       1.864700e+10   \n",
       "\n",
       "   balance_Total Assets  balance_Total Liabilities Net Minority Interest  \n",
       "0          2.523990e+11                                     1.618280e+11  \n",
       "1          5.535600e+10                                     4.192400e+10  \n",
       "2          6.983100e+10                                     4.620900e+10  "
      ]
     },
     "execution_count": 227,
     "metadata": {},
     "output_type": "execute_result"
    }
   ],
   "source": [
    "df.head()"
   ]
  },
  {
   "cell_type": "markdown",
   "id": "b8ae37ce",
   "metadata": {},
   "source": [
    "## Profitability"
   ]
  },
  {
   "cell_type": "markdown",
   "id": "8219246d",
   "metadata": {},
   "source": [
    "### ROI (Return on Investment)\n",
    "\n",
    "I calculated ROI by dividing net income by stockholders equity. This ratio shows how much profit the company generates from its invested capital.\n",
    "\n",
    "ROI helps assess how efficiently the company uses its resources and what returns investors can expect.\n",
    "\n"
   ]
  },
  {
   "cell_type": "code",
   "execution_count": 228,
   "id": "96da0f8d",
   "metadata": {},
   "outputs": [
    {
     "data": {
      "image/png": "[encoded data removed]",
      "text/plain": [
       "<Figure size 640x480 with 1 Axes>"
      ]
     },
     "metadata": {},
     "output_type": "display_data"
    }
   ],
   "source": [
    "\n",
    "colors = {\n",
    "    'Costco': '#D1495B',      \n",
    "    'Target Corp': '#616F39', \n",
    "    'Walmart': '#2F5061'      \n",
    "}\n",
    "\n",
    "df[\"ROI\"] = df[\"income_Net Income\"] / df[\"balance_Stockholders Equity\"]\n",
    "\n",
    "order = df.sort_values(\"ROI\", ascending=False)[\"Company\"]\n",
    "\n",
    "ax = sns.barplot(\n",
    "    data=df,\n",
    "    x=\"Company\",\n",
    "    y=\"ROI\",\n",
    "    order=order,\n",
    "    legend=False,\n",
    "    hue=\"Company\",\n",
    "    palette=colors\n",
    ")\n",
    "\n",
    "for p in ax.patches:\n",
    "    height = p.get_height()\n",
    "    ax.text(\n",
    "        p.get_x() + p.get_width() / 2,\n",
    "        height,\n",
    "        f\"{height:.1%}\",\n",
    "        ha=\"center\",\n",
    "        va=\"bottom\",\n",
    "        fontsize=14,\n",
    "    )\n",
    "\n",
    "ax.set_xlabel(\"\")\n",
    "ax.yaxis.set_visible(False)\n",
    "sns.despine(left=True, bottom=True, top=True, right=True)\n",
    "ax.tick_params(axis=\"x\", labelsize=14)\n",
    "plt.title(\"ROI by Company\", fontsize=14, pad=20)\n",
    "plt.tight_layout()\n",
    "plt.show()\n"
   ]
  },
  {
   "cell_type": "markdown",
   "id": "f7542818",
   "metadata": {},
   "source": [
    "ROI measures how effectively a company generates profit from the capital invested. Values above 25 to 30% generally indicate strong performance while numbers below 15% may suggest less efficient use of resources.\n",
    "\n",
    "Costco – 31.2%, showing strong efficiency\n",
    "\n",
    "Target – 30.8%, a very solid result\n",
    "\n",
    "Walmart – 18.5%, moderate performance"
   ]
  },
  {
   "cell_type": "markdown",
   "id": "ee504ec0",
   "metadata": {},
   "source": [
    "### Gross Margin\n",
    "\n",
    "I calculated gross margin by dividing gross profit by total revenue. This metric shows how much profit the company makes from its core operations before other expenses.\n",
    "\n",
    "It indicates the company efficiency in managing production costs and its ability to generate profit from sales.\n",
    "\n"
   ]
  },
  {
   "cell_type": "code",
   "execution_count": 229,
   "id": "5c1db6fc",
   "metadata": {},
   "outputs": [
    {
     "data": {
      "image/png": "[encoded data removed]",
      "text/plain": [
       "<Figure size 640x480 with 1 Axes>"
      ]
     },
     "metadata": {},
     "output_type": "display_data"
    }
   ],
   "source": [
    "\n",
    "df[\"Gross_Margin\"] = df[\"income_Gross Profit\"] / df[\"income_Total Revenue\"]\n",
    "\n",
    "\n",
    "order = df.sort_values(\"Gross_Margin\", ascending=False)[\"Company\"]\n",
    "\n",
    "ax = sns.barplot(\n",
    "    data=df,\n",
    "    x=\"Company\",\n",
    "    y=\"Gross_Margin\",\n",
    "    order=order,\n",
    "    legend=False,\n",
    "    hue=\"Company\",\n",
    "    palette=colors\n",
    ")\n",
    "\n",
    "for p in ax.patches:\n",
    "    height = p.get_height()\n",
    "    ax.text(\n",
    "        p.get_x() + p.get_width() / 2,\n",
    "        height,\n",
    "        f\"{height:.1%}\",\n",
    "        ha=\"center\",\n",
    "        va=\"bottom\",\n",
    "        fontsize=14,\n",
    "    )\n",
    "\n",
    "\n",
    "ax.set_xlabel(\"\")\n",
    "ax.yaxis.set_visible(False)\n",
    "sns.despine(left=True, bottom=True, top=True, right=True)\n",
    "ax.tick_params(axis=\"x\", labelsize=14)\n",
    "plt.title(\"Gross Margin by Company\", fontsize=14, pad=20)\n",
    "plt.tight_layout()\n",
    "plt.show()\n"
   ]
  },
  {
   "cell_type": "markdown",
   "id": "50e24ae3",
   "metadata": {},
   "source": [
    "A higher gross margin means a company keeps more profit from sales after covering the cost of goods sold. Margins above 25% usually indicate healthy pricing power, while those below 15% may point to tighter competition or lower profitability.\n",
    "\n",
    "Target – 27.5%, reflecting strong pricing power\n",
    "\n",
    "Walmart – 24.4%, slightly below ideal but still decent\n",
    "\n",
    "Costco – 12.6%, quite low, indicating tighter margins"
   ]
  },
  {
   "cell_type": "markdown",
   "id": "fc05e395",
   "metadata": {},
   "source": [
    "### ROS (Return on Sales)\n",
    "To measure operational efficiency, I calculated ROS by dividing net income by total revenue. This ratio showed me how much profit the company keeps from each dollar of sales after covering all expenses."
   ]
  },
  {
   "cell_type": "code",
   "execution_count": 230,
   "id": "c6787ea4",
   "metadata": {},
   "outputs": [
    {
     "data": {
      "image/png": "[encoded data removed]",
      "text/plain": [
       "<Figure size 640x480 with 1 Axes>"
      ]
     },
     "metadata": {},
     "output_type": "display_data"
    }
   ],
   "source": [
    "df[\"ROS\"] = df[\"income_EBIT\"] / df[\"income_Total Revenue\"]\n",
    "\n",
    "order = df.sort_values(\"ROS\", ascending=False)[\"Company\"]\n",
    "\n",
    "ax = sns.barplot(\n",
    "    data=df,\n",
    "    x=\"Company\",\n",
    "    y=\"ROS\",\n",
    "    order=order,\n",
    "    legend=False,\n",
    "    hue=\"Company\",\n",
    "    palette=colors\n",
    ")\n",
    "\n",
    "for p in ax.patches:\n",
    "    height = p.get_height()\n",
    "    ax.text(\n",
    "        p.get_x() + p.get_width() / 2,\n",
    "        height,\n",
    "        f\"{height:.1%}\",\n",
    "        ha=\"center\",\n",
    "        va=\"bottom\",\n",
    "        fontsize=14,\n",
    "    )\n",
    "\n",
    "ax.set_xlabel(\"\")\n",
    "ax.yaxis.set_visible(False)\n",
    "sns.despine(left=True, bottom=True, top=True, right=True)\n",
    "ax.tick_params(axis=\"x\", labelsize=14)\n",
    "plt.title(\"ROS by Company\", fontsize=14, pad=20)\n",
    "plt.tight_layout()\n",
    "plt.show()\n"
   ]
  },
  {
   "cell_type": "markdown",
   "id": "76f4f11a",
   "metadata": {},
   "source": [
    "Higher ROS shows better profitability and operational efficiency. Values above 5% are generally good, while below 3% might suggest weaker margins or higher costs.\n",
    "\n",
    "Target – 5.4%, solid profitability\n",
    "\n",
    "Costco – 3.9%, moderate performance\n",
    "\n",
    "Walmart – 3.0%, on the lower end\n",
    "\n"
   ]
  },
  {
   "cell_type": "markdown",
   "id": "c6b83a47",
   "metadata": {},
   "source": [
    "## Liquidity"
   ]
  },
  {
   "cell_type": "markdown",
   "id": "70851d86",
   "metadata": {},
   "source": [
    "### Current Ratio\n",
    "To assess short term liquidity, I calculated the current ratio by dividing current assets by current liabilities. This showed me whether the company can meet its short term obligations using its most liquid assets. "
   ]
  },
  {
   "cell_type": "code",
   "execution_count": 231,
   "id": "d23e59cc",
   "metadata": {},
   "outputs": [
    {
     "data": {
      "image/png": "[encoded data removed]",
      "text/plain": [
       "<Figure size 640x480 with 1 Axes>"
      ]
     },
     "metadata": {},
     "output_type": "display_data"
    }
   ],
   "source": [
    "df[\"Current Ratio\"] = df[\"balance_Current Assets\"] / df[\"balance_Current Liabilities\"]\n",
    "\n",
    "order = df.sort_values(\"Current Ratio\", ascending=False)[\"Company\"]\n",
    "\n",
    "ax = sns.barplot(\n",
    "    data=df,\n",
    "    x=\"Company\",\n",
    "    y=\"Current Ratio\",\n",
    "    order=order,\n",
    "    legend=False,\n",
    "    hue=\"Company\",\n",
    "    palette=colors\n",
    ")\n",
    "\n",
    "for p in ax.patches:\n",
    "    height = p.get_height()\n",
    "    ax.text(\n",
    "        p.get_x() + p.get_width() / 2,\n",
    "        height,\n",
    "        f\"{height:.2f}\",\n",
    "        ha=\"center\",\n",
    "        va=\"bottom\",\n",
    "        fontsize=14,\n",
    "    )\n",
    "\n",
    "ax.set_xlabel(\"\")\n",
    "ax.yaxis.set_visible(False)\n",
    "sns.despine(left=True, bottom=True, top=True, right=True)\n",
    "ax.tick_params(axis=\"x\", labelsize=14)\n",
    "plt.title(\"Current Ratio by Company\", fontsize=14, pad=20)\n",
    "plt.tight_layout()\n",
    "plt.show()\n"
   ]
  },
  {
   "cell_type": "markdown",
   "id": "b1b748bc",
   "metadata": {},
   "source": [
    "Current ratio near 1 or slightly below is typical and generally healthy in retail, reflecting efficient cash and inventory management. Values well below 1 could indicate liquidity concerns.\n",
    "\n",
    "Costco – 0.97, close to ideal liquidity\n",
    "\n",
    "Target – 0.91, slightly lower but still acceptable\n",
    "\n",
    "Walmart – 0.83, somewhat tight liquidity"
   ]
  },
  {
   "cell_type": "markdown",
   "id": "b6642ef9",
   "metadata": {},
   "source": [
    "## Quick ratio\n",
    "Quick ratio is a stricter liquidity test that excludes inventory from current assets. It shows whether a company can meet short-term liabilities without relying on inventory sales."
   ]
  },
  {
   "cell_type": "code",
   "execution_count": 232,
   "id": "2aeae375",
   "metadata": {},
   "outputs": [
    {
     "data": {
      "image/png": "[encoded data removed]",
      "text/plain": [
       "<Figure size 640x480 with 1 Axes>"
      ]
     },
     "metadata": {},
     "output_type": "display_data"
    }
   ],
   "source": [
    "df[\"Quick Ratio\"] = (df[\"balance_Current Assets\"] - df[\"balance_Inventory\"]) / df[\"balance_Current Liabilities\"]\n",
    "\n",
    "order = df.sort_values(\"Quick Ratio\", ascending=False)[\"Company\"]\n",
    "\n",
    "ax = sns.barplot(\n",
    "    data=df,\n",
    "    x=\"Company\",\n",
    "    y=\"Quick Ratio\",\n",
    "    order=order,\n",
    "    legend=False,\n",
    "    hue=\"Company\",\n",
    "    palette=colors\n",
    ")\n",
    "\n",
    "for p in ax.patches:\n",
    "    height = p.get_height()\n",
    "    ax.text(\n",
    "        p.get_x() + p.get_width() / 2,\n",
    "        height,\n",
    "        f\"{height:.2f}\",\n",
    "        ha=\"center\",\n",
    "        va=\"bottom\",\n",
    "        fontsize=14,\n",
    "    )\n",
    "\n",
    "ax.set_xlabel(\"\")\n",
    "ax.yaxis.set_visible(False)\n",
    "sns.despine(left=True, bottom=True, top=True, right=True)\n",
    "ax.tick_params(axis=\"x\", labelsize=14)\n",
    "plt.title(\"Quick Ratio by Company\", fontsize=14, pad=20)\n",
    "plt.tight_layout()\n",
    "plt.show()\n"
   ]
  },
  {
   "cell_type": "markdown",
   "id": "8a928b6a",
   "metadata": {},
   "source": [
    "Quick ratio below 1 is common in retail due to high inventory levels, but higher values indicate better short-term liquidity excluding inventory.\n",
    "\n",
    "Costco – 0.44, better liquidity position\n",
    "\n",
    "Target – 0.29, moderate liquidity\n",
    "\n",
    "Walmart – 0.24, relatively low liquidity"
   ]
  },
  {
   "cell_type": "markdown",
   "id": "d3ac2f2c",
   "metadata": {},
   "source": [
    "## Activity"
   ]
  },
  {
   "cell_type": "markdown",
   "id": "3f884d04",
   "metadata": {},
   "source": [
    "### Asset Turnover\n",
    "To understand how efficiently the company uses its assets, I calculated asset turnover by dividing total revenue by total assets. This gave me a view into how well the company converts its asset base into sales."
   ]
  },
  {
   "cell_type": "code",
   "execution_count": 233,
   "id": "52360c49",
   "metadata": {},
   "outputs": [
    {
     "data": {
      "image/png": "[encoded data removed]",
      "text/plain": [
       "<Figure size 640x480 with 1 Axes>"
      ]
     },
     "metadata": {},
     "output_type": "display_data"
    }
   ],
   "source": [
    "df[\"Asset Turnover\"] = df[\"income_Total Revenue\"] / df[\"balance_Total Assets\"]\n",
    "\n",
    "order = df.sort_values(\"Asset Turnover\", ascending=False)[\"Company\"]\n",
    "\n",
    "ax = sns.barplot(\n",
    "    data=df,\n",
    "    x=\"Company\",\n",
    "    y=\"Asset Turnover\",\n",
    "    order=order,\n",
    "    legend=False,\n",
    "    hue=\"Company\",\n",
    "    palette=colors\n",
    ")\n",
    "\n",
    "for p in ax.patches:\n",
    "    height = p.get_height()\n",
    "    ax.text(\n",
    "        p.get_x() + p.get_width() / 2,\n",
    "        height,\n",
    "        f\"{height:.2f}\",\n",
    "        ha=\"center\",\n",
    "        va=\"bottom\",\n",
    "        fontsize=14,\n",
    "    )\n",
    "\n",
    "ax.set_xlabel(\"\")\n",
    "ax.yaxis.set_visible(False)\n",
    "sns.despine(left=True, bottom=True, top=True, right=True)\n",
    "ax.tick_params(axis=\"x\", labelsize=14)\n",
    "plt.title(\"Asset Turnover by Company\", fontsize=14, pad=20)\n",
    "plt.tight_layout()\n",
    "plt.show()\n"
   ]
  },
  {
   "cell_type": "markdown",
   "id": "e574db71",
   "metadata": {},
   "source": [
    "Higher asset turnover means the company uses its assets more efficiently to generate sales. In retail, values above 2 are generally strong.\n",
    "\n",
    "Costco – 3.64, excellent asset utilization\n",
    "\n",
    "Walmart – 2.57, solid efficiency\n",
    "\n",
    "Target – 1.94, slightly below average"
   ]
  },
  {
   "cell_type": "markdown",
   "id": "b9dcdbb0",
   "metadata": {},
   "source": [
    "## Solvency\n"
   ]
  },
  {
   "cell_type": "markdown",
   "id": "437fbd09",
   "metadata": {},
   "source": [
    "### Debt to Equity Ratio\n",
    "Debt to equity ratio is computed by dividing total liabilities by shareholders' equity. It reflects the company's capital structure and financial leverage."
   ]
  },
  {
   "cell_type": "code",
   "execution_count": 234,
   "id": "d84c74c7",
   "metadata": {},
   "outputs": [
    {
     "data": {
      "image/png": "[encoded data removed]",
      "text/plain": [
       "<Figure size 640x480 with 1 Axes>"
      ]
     },
     "metadata": {},
     "output_type": "display_data"
    }
   ],
   "source": [
    "df[\"Debt-to-Equity\"] = df[\"balance_Total Liabilities Net Minority Interest\"] / df[\"balance_Stockholders Equity\"]\n",
    "\n",
    "order = df.sort_values(\"Debt-to-Equity\", ascending=False)[\"Company\"]\n",
    "\n",
    "ax = sns.barplot(\n",
    "    data=df,\n",
    "    x=\"Company\",\n",
    "    y=\"Debt-to-Equity\",\n",
    "    order=order,\n",
    "    legend=False,\n",
    "    hue=\"Company\",\n",
    "    palette=colors\n",
    ")\n",
    "\n",
    "for p in ax.patches:\n",
    "    height = p.get_height()\n",
    "    ax.text(\n",
    "        p.get_x() + p.get_width() / 2,\n",
    "        height,\n",
    "        f\"{height:.2f}\",\n",
    "        ha=\"center\",\n",
    "        va=\"bottom\",\n",
    "        fontsize=14,\n",
    "    )\n",
    "\n",
    "ax.set_xlabel(\"\")\n",
    "ax.yaxis.set_visible(False)\n",
    "sns.despine(left=True, bottom=True, top=True, right=True)\n",
    "ax.tick_params(axis=\"x\", labelsize=14)\n",
    "plt.title(\"Debt-to-Equity Ratio by Company\", fontsize=14, pad=20)\n",
    "plt.tight_layout()\n",
    "plt.show()\n",
    "\n"
   ]
  },
  {
   "cell_type": "markdown",
   "id": "791bd0d0",
   "metadata": {},
   "source": [
    "A lower debt-to-equity ratio indicates less reliance on borrowed money, which usually means lower financial risk. In retail, ratios under 2 are generally considered healthy, while values above 3 suggest higher leverage.\n",
    "\n",
    "Target – 3.12, relatively high leverage\n",
    "\n",
    "Costco – 1.96, balanced debt level\n",
    "\n",
    "Walmart – 1.93, similarly balanced"
   ]
  },
  {
   "cell_type": "markdown",
   "id": "caf3a03b",
   "metadata": {},
   "source": [
    "## Financial rating"
   ]
  },
  {
   "cell_type": "code",
   "execution_count": 236,
   "id": "1bfe7306",
   "metadata": {},
   "outputs": [
    {
     "data": {
      "application/vnd.plotly.v1+json": {
       "config": {
        "plotlyServerURL": "https://plot.ly"
       },
       "data": [
        {
         "fill": "toself",
         "r": [
          89.97388535791367,
          77.50156219864994,
          55.69836065573771,
          33.18671211383434,
          7.578856246280365,
          52.26196088996655,
          28.514148412253615,
          89.97388535791367
         ],
         "theta": [
          "ROI",
          "Gross_Margin",
          "ROS",
          "Current Ratio",
          "Quick Ratio",
          "Asset Turnover",
          "Debt-to-Equity",
          "ROI"
         ],
         "type": "scatterpolar"
        }
       ],
       "layout": {
        "polar": {
         "radialaxis": {
          "range": [
           0,
           100
          ],
          "visible": false
         }
        },
        "template": {
         "data": {
          "bar": [
           {
            "error_x": {
             "color": "#2a3f5f"
            },
            "error_y": {
             "color": "#2a3f5f"
            },
            "marker": {
             "line": {
              "color": "#E5ECF6",
              "width": 0.5
             },
             "pattern": {
              "fillmode": "overlay",
              "size": 10,
              "solidity": 0.2
             }
            },
            "type": "bar"
           }
          ],
          "barpolar": [
           {
            "marker": {
             "line": {
              "color": "#E5ECF6",
              "width": 0.5
             },
             "pattern": {
              "fillmode": "overlay",
              "size": 10,
              "solidity": 0.2
             }
            },
            "type": "barpolar"
           }
          ],
          "carpet": [
           {
            "aaxis": {
             "endlinecolor": "#2a3f5f",
             "gridcolor": "white",
             "linecolor": "white",
             "minorgridcolor": "white",
             "startlinecolor": "#2a3f5f"
            },
            "baxis": {
             "endlinecolor": "#2a3f5f",
             "gridcolor": "white",
             "linecolor": "white",
             "minorgridcolor": "white",
             "startlinecolor": "#2a3f5f"
            },
            "type": "carpet"
           }
          ],
          "choropleth": [
           {
            "colorbar": {
             "outlinewidth": 0,
             "ticks": ""
            },
            "type": "choropleth"
           }
          ],
          "contour": [
           {
            "colorbar": {
             "outlinewidth": 0,
             "ticks": ""
            },
            "colorscale": [
             [
              0,
              "#0d0887"
             ],
             [
              0.1111111111111111,
              "#46039f"
             ],
             [
              0.2222222222222222,
              "#7201a8"
             ],
             [
              0.3333333333333333,
              "#9c179e"
             ],
             [
              0.4444444444444444,
              "#bd3786"
             ],
             [
              0.5555555555555556,
              "#d8576b"
             ],
             [
              0.6666666666666666,
              "#ed7953"
             ],
             [
              0.7777777777777778,
              "#fb9f3a"
             ],
             [
              0.8888888888888888,
              "#fdca26"
             ],
             [
              1,
              "#f0f921"
             ]
            ],
            "type": "contour"
           }
          ],
          "contourcarpet": [
           {
            "colorbar": {
             "outlinewidth": 0,
             "ticks": ""
            },
            "type": "contourcarpet"
           }
          ],
          "heatmap": [
           {
            "colorbar": {
             "outlinewidth": 0,
             "ticks": ""
            },
            "colorscale": [
             [
              0,
              "#0d0887"
             ],
             [
              0.1111111111111111,
              "#46039f"
             ],
             [
              0.2222222222222222,
              "#7201a8"
             ],
             [
              0.3333333333333333,
              "#9c179e"
             ],
             [
              0.4444444444444444,
              "#bd3786"
             ],
             [
              0.5555555555555556,
              "#d8576b"
             ],
             [
              0.6666666666666666,
              "#ed7953"
             ],
             [
              0.7777777777777778,
              "#fb9f3a"
             ],
             [
              0.8888888888888888,
              "#fdca26"
             ],
             [
              1,
              "#f0f921"
             ]
            ],
            "type": "heatmap"
           }
          ],
          "heatmapgl": [
           {
            "colorbar": {
             "outlinewidth": 0,
             "ticks": ""
            },
            "colorscale": [
             [
              0,
              "#0d0887"
             ],
             [
              0.1111111111111111,
              "#46039f"
             ],
             [
              0.2222222222222222,
              "#7201a8"
             ],
             [
              0.3333333333333333,
              "#9c179e"
             ],
             [
              0.4444444444444444,
              "#bd3786"
             ],
             [
              0.5555555555555556,
              "#d8576b"
             ],
             [
              0.6666666666666666,
              "#ed7953"
             ],
             [
              0.7777777777777778,
              "#fb9f3a"
             ],
             [
              0.8888888888888888,
              "#fdca26"
             ],
             [
              1,
              "#f0f921"
             ]
            ],
            "type": "heatmapgl"
           }
          ],
          "histogram": [
           {
            "marker": {
             "pattern": {
              "fillmode": "overlay",
              "size": 10,
              "solidity": 0.2
             }
            },
            "type": "histogram"
           }
          ],
          "histogram2d": [
           {
            "colorbar": {
             "outlinewidth": 0,
             "ticks": ""
            },
            "colorscale": [
             [
              0,
              "#0d0887"
             ],
             [
              0.1111111111111111,
              "#46039f"
             ],
             [
              0.2222222222222222,
              "#7201a8"
             ],
             [
              0.3333333333333333,
              "#9c179e"
             ],
             [
              0.4444444444444444,
              "#bd3786"
             ],
             [
              0.5555555555555556,
              "#d8576b"
             ],
             [
              0.6666666666666666,
              "#ed7953"
             ],
             [
              0.7777777777777778,
              "#fb9f3a"
             ],
             [
              0.8888888888888888,
              "#fdca26"
             ],
             [
              1,
              "#f0f921"
             ]
            ],
            "type": "histogram2d"
           }
          ],
          "histogram2dcontour": [
           {
            "colorbar": {
             "outlinewidth": 0,
             "ticks": ""
            },
            "colorscale": [
             [
              0,
              "#0d0887"
             ],
             [
              0.1111111111111111,
              "#46039f"
             ],
             [
              0.2222222222222222,
              "#7201a8"
             ],
             [
              0.3333333333333333,
              "#9c179e"
             ],
             [
              0.4444444444444444,
              "#bd3786"
             ],
             [
              0.5555555555555556,
              "#d8576b"
             ],
             [
              0.6666666666666666,
              "#ed7953"
             ],
             [
              0.7777777777777778,
              "#fb9f3a"
             ],
             [
              0.8888888888888888,
              "#fdca26"
             ],
             [
              1,
              "#f0f921"
             ]
            ],
            "type": "histogram2dcontour"
           }
          ],
          "mesh3d": [
           {
            "colorbar": {
             "outlinewidth": 0,
             "ticks": ""
            },
            "type": "mesh3d"
           }
          ],
          "parcoords": [
           {
            "line": {
             "colorbar": {
              "outlinewidth": 0,
              "ticks": ""
             }
            },
            "type": "parcoords"
           }
          ],
          "pie": [
           {
            "automargin": true,
            "type": "pie"
           }
          ],
          "scatter": [
           {
            "fillpattern": {
             "fillmode": "overlay",
             "size": 10,
             "solidity": 0.2
            },
            "type": "scatter"
           }
          ],
          "scatter3d": [
           {
            "line": {
             "colorbar": {
              "outlinewidth": 0,
              "ticks": ""
             }
            },
            "marker": {
             "colorbar": {
              "outlinewidth": 0,
              "ticks": ""
             }
            },
            "type": "scatter3d"
           }
          ],
          "scattercarpet": [
           {
            "marker": {
             "colorbar": {
              "outlinewidth": 0,
              "ticks": ""
             }
            },
            "type": "scattercarpet"
           }
          ],
          "scattergeo": [
           {
            "marker": {
             "colorbar": {
              "outlinewidth": 0,
              "ticks": ""
             }
            },
            "type": "scattergeo"
           }
          ],
          "scattergl": [
           {
            "marker": {
             "colorbar": {
              "outlinewidth": 0,
              "ticks": ""
             }
            },
            "type": "scattergl"
           }
          ],
          "scattermapbox": [
           {
            "marker": {
             "colorbar": {
              "outlinewidth": 0,
              "ticks": ""
             }
            },
            "type": "scattermapbox"
           }
          ],
          "scatterpolar": [
           {
            "marker": {
             "colorbar": {
              "outlinewidth": 0,
              "ticks": ""
             }
            },
            "type": "scatterpolar"
           }
          ],
          "scatterpolargl": [
           {
            "marker": {
             "colorbar": {
              "outlinewidth": 0,
              "ticks": ""
             }
            },
            "type": "scatterpolargl"
           }
          ],
          "scatterternary": [
           {
            "marker": {
             "colorbar": {
              "outlinewidth": 0,
              "ticks": ""
             }
            },
            "type": "scatterternary"
           }
          ],
          "surface": [
           {
            "colorbar": {
             "outlinewidth": 0,
             "ticks": ""
            },
            "colorscale": [
             [
              0,
              "#0d0887"
             ],
             [
              0.1111111111111111,
              "#46039f"
             ],
             [
              0.2222222222222222,
              "#7201a8"
             ],
             [
              0.3333333333333333,
              "#9c179e"
             ],
             [
              0.4444444444444444,
              "#bd3786"
             ],
             [
              0.5555555555555556,
              "#d8576b"
             ],
             [
              0.6666666666666666,
              "#ed7953"
             ],
             [
              0.7777777777777778,
              "#fb9f3a"
             ],
             [
              0.8888888888888888,
              "#fdca26"
             ],
             [
              1,
              "#f0f921"
             ]
            ],
            "type": "surface"
           }
          ],
          "table": [
           {
            "cells": {
             "fill": {
              "color": "#EBF0F8"
             },
             "line": {
              "color": "white"
             }
            },
            "header": {
             "fill": {
              "color": "#C8D4E3"
             },
             "line": {
              "color": "white"
             }
            },
            "type": "table"
           }
          ]
         },
         "layout": {
          "annotationdefaults": {
           "arrowcolor": "#2a3f5f",
           "arrowhead": 0,
           "arrowwidth": 1
          },
          "autotypenumbers": "strict",
          "coloraxis": {
           "colorbar": {
            "outlinewidth": 0,
            "ticks": ""
           }
          },
          "colorscale": {
           "diverging": [
            [
             0,
             "#8e0152"
            ],
            [
             0.1,
             "#c51b7d"
            ],
            [
             0.2,
             "#de77ae"
            ],
            [
             0.3,
             "#f1b6da"
            ],
            [
             0.4,
             "#fde0ef"
            ],
            [
             0.5,
             "#f7f7f7"
            ],
            [
             0.6,
             "#e6f5d0"
            ],
            [
             0.7,
             "#b8e186"
            ],
            [
             0.8,
             "#7fbc41"
            ],
            [
             0.9,
             "#4d9221"
            ],
            [
             1,
             "#276419"
            ]
           ],
           "sequential": [
            [
             0,
             "#0d0887"
            ],
            [
             0.1111111111111111,
             "#46039f"
            ],
            [
             0.2222222222222222,
             "#7201a8"
            ],
            [
             0.3333333333333333,
             "#9c179e"
            ],
            [
             0.4444444444444444,
             "#bd3786"
            ],
            [
             0.5555555555555556,
             "#d8576b"
            ],
            [
             0.6666666666666666,
             "#ed7953"
            ],
            [
             0.7777777777777778,
             "#fb9f3a"
            ],
            [
             0.8888888888888888,
             "#fdca26"
            ],
            [
             1,
             "#f0f921"
            ]
           ],
           "sequentialminus": [
            [
             0,
             "#0d0887"
            ],
            [
             0.1111111111111111,
             "#46039f"
            ],
            [
             0.2222222222222222,
             "#7201a8"
            ],
            [
             0.3333333333333333,
             "#9c179e"
            ],
            [
             0.4444444444444444,
             "#bd3786"
            ],
            [
             0.5555555555555556,
             "#d8576b"
            ],
            [
             0.6666666666666666,
             "#ed7953"
            ],
            [
             0.7777777777777778,
             "#fb9f3a"
            ],
            [
             0.8888888888888888,
             "#fdca26"
            ],
            [
             1,
             "#f0f921"
            ]
           ]
          },
          "colorway": [
           "#636efa",
           "#EF553B",
           "#00cc96",
           "#ab63fa",
           "#FFA15A",
           "#19d3f3",
           "#FF6692",
           "#B6E880",
           "#FF97FF",
           "#FECB52"
          ],
          "font": {
           "color": "#2a3f5f"
          },
          "geo": {
           "bgcolor": "white",
           "lakecolor": "white",
           "landcolor": "#E5ECF6",
           "showlakes": true,
           "showland": true,
           "subunitcolor": "white"
          },
          "hoverlabel": {
           "align": "left"
          },
          "hovermode": "closest",
          "mapbox": {
           "style": "light"
          },
          "paper_bgcolor": "white",
          "plot_bgcolor": "#E5ECF6",
          "polar": {
           "angularaxis": {
            "gridcolor": "white",
            "linecolor": "white",
            "ticks": ""
           },
           "bgcolor": "#E5ECF6",
           "radialaxis": {
            "gridcolor": "white",
            "linecolor": "white",
            "ticks": ""
           }
          },
          "scene": {
           "xaxis": {
            "backgroundcolor": "#E5ECF6",
            "gridcolor": "white",
            "gridwidth": 2,
            "linecolor": "white",
            "showbackground": true,
            "ticks": "",
            "zerolinecolor": "white"
           },
           "yaxis": {
            "backgroundcolor": "#E5ECF6",
            "gridcolor": "white",
            "gridwidth": 2,
            "linecolor": "white",
            "showbackground": true,
            "ticks": "",
            "zerolinecolor": "white"
           },
           "zaxis": {
            "backgroundcolor": "#E5ECF6",
            "gridcolor": "white",
            "gridwidth": 2,
            "linecolor": "white",
            "showbackground": true,
            "ticks": "",
            "zerolinecolor": "white"
           }
          },
          "shapedefaults": {
           "line": {
            "color": "#2a3f5f"
           }
          },
          "ternary": {
           "aaxis": {
            "gridcolor": "white",
            "linecolor": "white",
            "ticks": ""
           },
           "baxis": {
            "gridcolor": "white",
            "linecolor": "white",
            "ticks": ""
           },
           "bgcolor": "#E5ECF6",
           "caxis": {
            "gridcolor": "white",
            "linecolor": "white",
            "ticks": ""
           }
          },
          "title": {
           "x": 0.05
          },
          "xaxis": {
           "automargin": true,
           "gridcolor": "white",
           "linecolor": "white",
           "ticks": "",
           "title": {
            "standoff": 15
           },
           "zerolinecolor": "white",
           "zerolinewidth": 2
          },
          "yaxis": {
           "automargin": true,
           "gridcolor": "white",
           "linecolor": "white",
           "ticks": "",
           "title": {
            "standoff": 15
           },
           "zerolinecolor": "white",
           "zerolinewidth": 2
          }
         }
        },
        "title": {
         "text": "Walmart"
        }
       }
      }
     },
     "metadata": {},
     "output_type": "display_data"
    },
    {
     "data": {
      "application/vnd.plotly.v1+json": {
       "config": {
        "plotlyServerURL": "https://plot.ly"
       },
       "data": [
        {
         "fill": "toself",
         "r": [
          100,
          30.453325368535637,
          57.88471741343195,
          46.5655312429506,
          47.970900067674265,
          88.12800427699256,
          27.190754381508764,
          100
         ],
         "theta": [
          "ROI",
          "Gross_Margin",
          "ROS",
          "Current Ratio",
          "Quick Ratio",
          "Asset Turnover",
          "Debt-to-Equity",
          "ROI"
         ],
         "type": "scatterpolar"
        }
       ],
       "layout": {
        "polar": {
         "radialaxis": {
          "range": [
           0,
           100
          ],
          "visible": false
         }
        },
        "template": {
         "data": {
          "bar": [
           {
            "error_x": {
             "color": "#2a3f5f"
            },
            "error_y": {
             "color": "#2a3f5f"
            },
            "marker": {
             "line": {
              "color": "#E5ECF6",
              "width": 0.5
             },
             "pattern": {
              "fillmode": "overlay",
              "size": 10,
              "solidity": 0.2
             }
            },
            "type": "bar"
           }
          ],
          "barpolar": [
           {
            "marker": {
             "line": {
              "color": "#E5ECF6",
              "width": 0.5
             },
             "pattern": {
              "fillmode": "overlay",
              "size": 10,
              "solidity": 0.2
             }
            },
            "type": "barpolar"
           }
          ],
          "carpet": [
           {
            "aaxis": {
             "endlinecolor": "#2a3f5f",
             "gridcolor": "white",
             "linecolor": "white",
             "minorgridcolor": "white",
             "startlinecolor": "#2a3f5f"
            },
            "baxis": {
             "endlinecolor": "#2a3f5f",
             "gridcolor": "white",
             "linecolor": "white",
             "minorgridcolor": "white",
             "startlinecolor": "#2a3f5f"
            },
            "type": "carpet"
           }
          ],
          "choropleth": [
           {
            "colorbar": {
             "outlinewidth": 0,
             "ticks": ""
            },
            "type": "choropleth"
           }
          ],
          "contour": [
           {
            "colorbar": {
             "outlinewidth": 0,
             "ticks": ""
            },
            "colorscale": [
             [
              0,
              "#0d0887"
             ],
             [
              0.1111111111111111,
              "#46039f"
             ],
             [
              0.2222222222222222,
              "#7201a8"
             ],
             [
              0.3333333333333333,
              "#9c179e"
             ],
             [
              0.4444444444444444,
              "#bd3786"
             ],
             [
              0.5555555555555556,
              "#d8576b"
             ],
             [
              0.6666666666666666,
              "#ed7953"
             ],
             [
              0.7777777777777778,
              "#fb9f3a"
             ],
             [
              0.8888888888888888,
              "#fdca26"
             ],
             [
              1,
              "#f0f921"
             ]
            ],
            "type": "contour"
           }
          ],
          "contourcarpet": [
           {
            "colorbar": {
             "outlinewidth": 0,
             "ticks": ""
            },
            "type": "contourcarpet"
           }
          ],
          "heatmap": [
           {
            "colorbar": {
             "outlinewidth": 0,
             "ticks": ""
            },
            "colorscale": [
             [
              0,
              "#0d0887"
             ],
             [
              0.1111111111111111,
              "#46039f"
             ],
             [
              0.2222222222222222,
              "#7201a8"
             ],
             [
              0.3333333333333333,
              "#9c179e"
             ],
             [
              0.4444444444444444,
              "#bd3786"
             ],
             [
              0.5555555555555556,
              "#d8576b"
             ],
             [
              0.6666666666666666,
              "#ed7953"
             ],
             [
              0.7777777777777778,
              "#fb9f3a"
             ],
             [
              0.8888888888888888,
              "#fdca26"
             ],
             [
              1,
              "#f0f921"
             ]
            ],
            "type": "heatmap"
           }
          ],
          "heatmapgl": [
           {
            "colorbar": {
             "outlinewidth": 0,
             "ticks": ""
            },
            "colorscale": [
             [
              0,
              "#0d0887"
             ],
             [
              0.1111111111111111,
              "#46039f"
             ],
             [
              0.2222222222222222,
              "#7201a8"
             ],
             [
              0.3333333333333333,
              "#9c179e"
             ],
             [
              0.4444444444444444,
              "#bd3786"
             ],
             [
              0.5555555555555556,
              "#d8576b"
             ],
             [
              0.6666666666666666,
              "#ed7953"
             ],
             [
              0.7777777777777778,
              "#fb9f3a"
             ],
             [
              0.8888888888888888,
              "#fdca26"
             ],
             [
              1,
              "#f0f921"
             ]
            ],
            "type": "heatmapgl"
           }
          ],
          "histogram": [
           {
            "marker": {
             "pattern": {
              "fillmode": "overlay",
              "size": 10,
              "solidity": 0.2
             }
            },
            "type": "histogram"
           }
          ],
          "histogram2d": [
           {
            "colorbar": {
             "outlinewidth": 0,
             "ticks": ""
            },
            "colorscale": [
             [
              0,
              "#0d0887"
             ],
             [
              0.1111111111111111,
              "#46039f"
             ],
             [
              0.2222222222222222,
              "#7201a8"
             ],
             [
              0.3333333333333333,
              "#9c179e"
             ],
             [
              0.4444444444444444,
              "#bd3786"
             ],
             [
              0.5555555555555556,
              "#d8576b"
             ],
             [
              0.6666666666666666,
              "#ed7953"
             ],
             [
              0.7777777777777778,
              "#fb9f3a"
             ],
             [
              0.8888888888888888,
              "#fdca26"
             ],
             [
              1,
              "#f0f921"
             ]
            ],
            "type": "histogram2d"
           }
          ],
          "histogram2dcontour": [
           {
            "colorbar": {
             "outlinewidth": 0,
             "ticks": ""
            },
            "colorscale": [
             [
              0,
              "#0d0887"
             ],
             [
              0.1111111111111111,
              "#46039f"
             ],
             [
              0.2222222222222222,
              "#7201a8"
             ],
             [
              0.3333333333333333,
              "#9c179e"
             ],
             [
              0.4444444444444444,
              "#bd3786"
             ],
             [
              0.5555555555555556,
              "#d8576b"
             ],
             [
              0.6666666666666666,
              "#ed7953"
             ],
             [
              0.7777777777777778,
              "#fb9f3a"
             ],
             [
              0.8888888888888888,
              "#fdca26"
             ],
             [
              1,
              "#f0f921"
             ]
            ],
            "type": "histogram2dcontour"
           }
          ],
          "mesh3d": [
           {
            "colorbar": {
             "outlinewidth": 0,
             "ticks": ""
            },
            "type": "mesh3d"
           }
          ],
          "parcoords": [
           {
            "line": {
             "colorbar": {
              "outlinewidth": 0,
              "ticks": ""
             }
            },
            "type": "parcoords"
           }
          ],
          "pie": [
           {
            "automargin": true,
            "type": "pie"
           }
          ],
          "scatter": [
           {
            "fillpattern": {
             "fillmode": "overlay",
             "size": 10,
             "solidity": 0.2
            },
            "type": "scatter"
           }
          ],
          "scatter3d": [
           {
            "line": {
             "colorbar": {
              "outlinewidth": 0,
              "ticks": ""
             }
            },
            "marker": {
             "colorbar": {
              "outlinewidth": 0,
              "ticks": ""
             }
            },
            "type": "scatter3d"
           }
          ],
          "scattercarpet": [
           {
            "marker": {
             "colorbar": {
              "outlinewidth": 0,
              "ticks": ""
             }
            },
            "type": "scattercarpet"
           }
          ],
          "scattergeo": [
           {
            "marker": {
             "colorbar": {
              "outlinewidth": 0,
              "ticks": ""
             }
            },
            "type": "scattergeo"
           }
          ],
          "scattergl": [
           {
            "marker": {
             "colorbar": {
              "outlinewidth": 0,
              "ticks": ""
             }
            },
            "type": "scattergl"
           }
          ],
          "scattermapbox": [
           {
            "marker": {
             "colorbar": {
              "outlinewidth": 0,
              "ticks": ""
             }
            },
            "type": "scattermapbox"
           }
          ],
          "scatterpolar": [
           {
            "marker": {
             "colorbar": {
              "outlinewidth": 0,
              "ticks": ""
             }
            },
            "type": "scatterpolar"
           }
          ],
          "scatterpolargl": [
           {
            "marker": {
             "colorbar": {
              "outlinewidth": 0,
              "ticks": ""
             }
            },
            "type": "scatterpolargl"
           }
          ],
          "scatterternary": [
           {
            "marker": {
             "colorbar": {
              "outlinewidth": 0,
              "ticks": ""
             }
            },
            "type": "scatterternary"
           }
          ],
          "surface": [
           {
            "colorbar": {
             "outlinewidth": 0,
             "ticks": ""
            },
            "colorscale": [
             [
              0,
              "#0d0887"
             ],
             [
              0.1111111111111111,
              "#46039f"
             ],
             [
              0.2222222222222222,
              "#7201a8"
             ],
             [
              0.3333333333333333,
              "#9c179e"
             ],
             [
              0.4444444444444444,
              "#bd3786"
             ],
             [
              0.5555555555555556,
              "#d8576b"
             ],
             [
              0.6666666666666666,
              "#ed7953"
             ],
             [
              0.7777777777777778,
              "#fb9f3a"
             ],
             [
              0.8888888888888888,
              "#fdca26"
             ],
             [
              1,
              "#f0f921"
             ]
            ],
            "type": "surface"
           }
          ],
          "table": [
           {
            "cells": {
             "fill": {
              "color": "#EBF0F8"
             },
             "line": {
              "color": "white"
             }
            },
            "header": {
             "fill": {
              "color": "#C8D4E3"
             },
             "line": {
              "color": "white"
             }
            },
            "type": "table"
           }
          ]
         },
         "layout": {
          "annotationdefaults": {
           "arrowcolor": "#2a3f5f",
           "arrowhead": 0,
           "arrowwidth": 1
          },
          "autotypenumbers": "strict",
          "coloraxis": {
           "colorbar": {
            "outlinewidth": 0,
            "ticks": ""
           }
          },
          "colorscale": {
           "diverging": [
            [
             0,
             "#8e0152"
            ],
            [
             0.1,
             "#c51b7d"
            ],
            [
             0.2,
             "#de77ae"
            ],
            [
             0.3,
             "#f1b6da"
            ],
            [
             0.4,
             "#fde0ef"
            ],
            [
             0.5,
             "#f7f7f7"
            ],
            [
             0.6,
             "#e6f5d0"
            ],
            [
             0.7,
             "#b8e186"
            ],
            [
             0.8,
             "#7fbc41"
            ],
            [
             0.9,
             "#4d9221"
            ],
            [
             1,
             "#276419"
            ]
           ],
           "sequential": [
            [
             0,
             "#0d0887"
            ],
            [
             0.1111111111111111,
             "#46039f"
            ],
            [
             0.2222222222222222,
             "#7201a8"
            ],
            [
             0.3333333333333333,
             "#9c179e"
            ],
            [
             0.4444444444444444,
             "#bd3786"
            ],
            [
             0.5555555555555556,
             "#d8576b"
            ],
            [
             0.6666666666666666,
             "#ed7953"
            ],
            [
             0.7777777777777778,
             "#fb9f3a"
            ],
            [
             0.8888888888888888,
             "#fdca26"
            ],
            [
             1,
             "#f0f921"
            ]
           ],
           "sequentialminus": [
            [
             0,
             "#0d0887"
            ],
            [
             0.1111111111111111,
             "#46039f"
            ],
            [
             0.2222222222222222,
             "#7201a8"
            ],
            [
             0.3333333333333333,
             "#9c179e"
            ],
            [
             0.4444444444444444,
             "#bd3786"
            ],
            [
             0.5555555555555556,
             "#d8576b"
            ],
            [
             0.6666666666666666,
             "#ed7953"
            ],
            [
             0.7777777777777778,
             "#fb9f3a"
            ],
            [
             0.8888888888888888,
             "#fdca26"
            ],
            [
             1,
             "#f0f921"
            ]
           ]
          },
          "colorway": [
           "#636efa",
           "#EF553B",
           "#00cc96",
           "#ab63fa",
           "#FFA15A",
           "#19d3f3",
           "#FF6692",
           "#B6E880",
           "#FF97FF",
           "#FECB52"
          ],
          "font": {
           "color": "#2a3f5f"
          },
          "geo": {
           "bgcolor": "white",
           "lakecolor": "white",
           "landcolor": "#E5ECF6",
           "showlakes": true,
           "showland": true,
           "subunitcolor": "white"
          },
          "hoverlabel": {
           "align": "left"
          },
          "hovermode": "closest",
          "mapbox": {
           "style": "light"
          },
          "paper_bgcolor": "white",
          "plot_bgcolor": "#E5ECF6",
          "polar": {
           "angularaxis": {
            "gridcolor": "white",
            "linecolor": "white",
            "ticks": ""
           },
           "bgcolor": "#E5ECF6",
           "radialaxis": {
            "gridcolor": "white",
            "linecolor": "white",
            "ticks": ""
           }
          },
          "scene": {
           "xaxis": {
            "backgroundcolor": "#E5ECF6",
            "gridcolor": "white",
            "gridwidth": 2,
            "linecolor": "white",
            "showbackground": true,
            "ticks": "",
            "zerolinecolor": "white"
           },
           "yaxis": {
            "backgroundcolor": "#E5ECF6",
            "gridcolor": "white",
            "gridwidth": 2,
            "linecolor": "white",
            "showbackground": true,
            "ticks": "",
            "zerolinecolor": "white"
           },
           "zaxis": {
            "backgroundcolor": "#E5ECF6",
            "gridcolor": "white",
            "gridwidth": 2,
            "linecolor": "white",
            "showbackground": true,
            "ticks": "",
            "zerolinecolor": "white"
           }
          },
          "shapedefaults": {
           "line": {
            "color": "#2a3f5f"
           }
          },
          "ternary": {
           "aaxis": {
            "gridcolor": "white",
            "linecolor": "white",
            "ticks": ""
           },
           "baxis": {
            "gridcolor": "white",
            "linecolor": "white",
            "ticks": ""
           },
           "bgcolor": "#E5ECF6",
           "caxis": {
            "gridcolor": "white",
            "linecolor": "white",
            "ticks": ""
           }
          },
          "title": {
           "x": 0.05
          },
          "xaxis": {
           "automargin": true,
           "gridcolor": "white",
           "linecolor": "white",
           "ticks": "",
           "title": {
            "standoff": 15
           },
           "zerolinecolor": "white",
           "zerolinewidth": 2
          },
          "yaxis": {
           "automargin": true,
           "gridcolor": "white",
           "linecolor": "white",
           "ticks": "",
           "title": {
            "standoff": 15
           },
           "zerolinecolor": "white",
           "zerolinewidth": 2
          }
         }
        },
        "title": {
         "text": "Costco"
        }
       }
      }
     },
     "metadata": {},
     "output_type": "display_data"
    },
    {
     "data": {
      "application/vnd.plotly.v1+json": {
       "config": {
        "plotlyServerURL": "https://plot.ly"
       },
       "data": [
        {
         "fill": "toself",
         "r": [
          100,
          90.17018582653708,
          87.97676237291923,
          40.64442602569416,
          18.143389970990466,
          31.346195534359424,
          0,
          100
         ],
         "theta": [
          "ROI",
          "Gross_Margin",
          "ROS",
          "Current Ratio",
          "Quick Ratio",
          "Asset Turnover",
          "Debt-to-Equity",
          "ROI"
         ],
         "type": "scatterpolar"
        }
       ],
       "layout": {
        "polar": {
         "radialaxis": {
          "range": [
           0,
           100
          ],
          "visible": false
         }
        },
        "template": {
         "data": {
          "bar": [
           {
            "error_x": {
             "color": "#2a3f5f"
            },
            "error_y": {
             "color": "#2a3f5f"
            },
            "marker": {
             "line": {
              "color": "#E5ECF6",
              "width": 0.5
             },
             "pattern": {
              "fillmode": "overlay",
              "size": 10,
              "solidity": 0.2
             }
            },
            "type": "bar"
           }
          ],
          "barpolar": [
           {
            "marker": {
             "line": {
              "color": "#E5ECF6",
              "width": 0.5
             },
             "pattern": {
              "fillmode": "overlay",
              "size": 10,
              "solidity": 0.2
             }
            },
            "type": "barpolar"
           }
          ],
          "carpet": [
           {
            "aaxis": {
             "endlinecolor": "#2a3f5f",
             "gridcolor": "white",
             "linecolor": "white",
             "minorgridcolor": "white",
             "startlinecolor": "#2a3f5f"
            },
            "baxis": {
             "endlinecolor": "#2a3f5f",
             "gridcolor": "white",
             "linecolor": "white",
             "minorgridcolor": "white",
             "startlinecolor": "#2a3f5f"
            },
            "type": "carpet"
           }
          ],
          "choropleth": [
           {
            "colorbar": {
             "outlinewidth": 0,
             "ticks": ""
            },
            "type": "choropleth"
           }
          ],
          "contour": [
           {
            "colorbar": {
             "outlinewidth": 0,
             "ticks": ""
            },
            "colorscale": [
             [
              0,
              "#0d0887"
             ],
             [
              0.1111111111111111,
              "#46039f"
             ],
             [
              0.2222222222222222,
              "#7201a8"
             ],
             [
              0.3333333333333333,
              "#9c179e"
             ],
             [
              0.4444444444444444,
              "#bd3786"
             ],
             [
              0.5555555555555556,
              "#d8576b"
             ],
             [
              0.6666666666666666,
              "#ed7953"
             ],
             [
              0.7777777777777778,
              "#fb9f3a"
             ],
             [
              0.8888888888888888,
              "#fdca26"
             ],
             [
              1,
              "#f0f921"
             ]
            ],
            "type": "contour"
           }
          ],
          "contourcarpet": [
           {
            "colorbar": {
             "outlinewidth": 0,
             "ticks": ""
            },
            "type": "contourcarpet"
           }
          ],
          "heatmap": [
           {
            "colorbar": {
             "outlinewidth": 0,
             "ticks": ""
            },
            "colorscale": [
             [
              0,
              "#0d0887"
             ],
             [
              0.1111111111111111,
              "#46039f"
             ],
             [
              0.2222222222222222,
              "#7201a8"
             ],
             [
              0.3333333333333333,
              "#9c179e"
             ],
             [
              0.4444444444444444,
              "#bd3786"
             ],
             [
              0.5555555555555556,
              "#d8576b"
             ],
             [
              0.6666666666666666,
              "#ed7953"
             ],
             [
              0.7777777777777778,
              "#fb9f3a"
             ],
             [
              0.8888888888888888,
              "#fdca26"
             ],
             [
              1,
              "#f0f921"
             ]
            ],
            "type": "heatmap"
           }
          ],
          "heatmapgl": [
           {
            "colorbar": {
             "outlinewidth": 0,
             "ticks": ""
            },
            "colorscale": [
             [
              0,
              "#0d0887"
             ],
             [
              0.1111111111111111,
              "#46039f"
             ],
             [
              0.2222222222222222,
              "#7201a8"
             ],
             [
              0.3333333333333333,
              "#9c179e"
             ],
             [
              0.4444444444444444,
              "#bd3786"
             ],
             [
              0.5555555555555556,
              "#d8576b"
             ],
             [
              0.6666666666666666,
              "#ed7953"
             ],
             [
              0.7777777777777778,
              "#fb9f3a"
             ],
             [
              0.8888888888888888,
              "#fdca26"
             ],
             [
              1,
              "#f0f921"
             ]
            ],
            "type": "heatmapgl"
           }
          ],
          "histogram": [
           {
            "marker": {
             "pattern": {
              "fillmode": "overlay",
              "size": 10,
              "solidity": 0.2
             }
            },
            "type": "histogram"
           }
          ],
          "histogram2d": [
           {
            "colorbar": {
             "outlinewidth": 0,
             "ticks": ""
            },
            "colorscale": [
             [
              0,
              "#0d0887"
             ],
             [
              0.1111111111111111,
              "#46039f"
             ],
             [
              0.2222222222222222,
              "#7201a8"
             ],
             [
              0.3333333333333333,
              "#9c179e"
             ],
             [
              0.4444444444444444,
              "#bd3786"
             ],
             [
              0.5555555555555556,
              "#d8576b"
             ],
             [
              0.6666666666666666,
              "#ed7953"
             ],
             [
              0.7777777777777778,
              "#fb9f3a"
             ],
             [
              0.8888888888888888,
              "#fdca26"
             ],
             [
              1,
              "#f0f921"
             ]
            ],
            "type": "histogram2d"
           }
          ],
          "histogram2dcontour": [
           {
            "colorbar": {
             "outlinewidth": 0,
             "ticks": ""
            },
            "colorscale": [
             [
              0,
              "#0d0887"
             ],
             [
              0.1111111111111111,
              "#46039f"
             ],
             [
              0.2222222222222222,
              "#7201a8"
             ],
             [
              0.3333333333333333,
              "#9c179e"
             ],
             [
              0.4444444444444444,
              "#bd3786"
             ],
             [
              0.5555555555555556,
              "#d8576b"
             ],
             [
              0.6666666666666666,
              "#ed7953"
             ],
             [
              0.7777777777777778,
              "#fb9f3a"
             ],
             [
              0.8888888888888888,
              "#fdca26"
             ],
             [
              1,
              "#f0f921"
             ]
            ],
            "type": "histogram2dcontour"
           }
          ],
          "mesh3d": [
           {
            "colorbar": {
             "outlinewidth": 0,
             "ticks": ""
            },
            "type": "mesh3d"
           }
          ],
          "parcoords": [
           {
            "line": {
             "colorbar": {
              "outlinewidth": 0,
              "ticks": ""
             }
            },
            "type": "parcoords"
           }
          ],
          "pie": [
           {
            "automargin": true,
            "type": "pie"
           }
          ],
          "scatter": [
           {
            "fillpattern": {
             "fillmode": "overlay",
             "size": 10,
             "solidity": 0.2
            },
            "type": "scatter"
           }
          ],
          "scatter3d": [
           {
            "line": {
             "colorbar": {
              "outlinewidth": 0,
              "ticks": ""
             }
            },
            "marker": {
             "colorbar": {
              "outlinewidth": 0,
              "ticks": ""
             }
            },
            "type": "scatter3d"
           }
          ],
          "scattercarpet": [
           {
            "marker": {
             "colorbar": {
              "outlinewidth": 0,
              "ticks": ""
             }
            },
            "type": "scattercarpet"
           }
          ],
          "scattergeo": [
           {
            "marker": {
             "colorbar": {
              "outlinewidth": 0,
              "ticks": ""
             }
            },
            "type": "scattergeo"
           }
          ],
          "scattergl": [
           {
            "marker": {
             "colorbar": {
              "outlinewidth": 0,
              "ticks": ""
             }
            },
            "type": "scattergl"
           }
          ],
          "scattermapbox": [
           {
            "marker": {
             "colorbar": {
              "outlinewidth": 0,
              "ticks": ""
             }
            },
            "type": "scattermapbox"
           }
          ],
          "scatterpolar": [
           {
            "marker": {
             "colorbar": {
              "outlinewidth": 0,
              "ticks": ""
             }
            },
            "type": "scatterpolar"
           }
          ],
          "scatterpolargl": [
           {
            "marker": {
             "colorbar": {
              "outlinewidth": 0,
              "ticks": ""
             }
            },
            "type": "scatterpolargl"
           }
          ],
          "scatterternary": [
           {
            "marker": {
             "colorbar": {
              "outlinewidth": 0,
              "ticks": ""
             }
            },
            "type": "scatterternary"
           }
          ],
          "surface": [
           {
            "colorbar": {
             "outlinewidth": 0,
             "ticks": ""
            },
            "colorscale": [
             [
              0,
              "#0d0887"
             ],
             [
              0.1111111111111111,
              "#46039f"
             ],
             [
              0.2222222222222222,
              "#7201a8"
             ],
             [
              0.3333333333333333,
              "#9c179e"
             ],
             [
              0.4444444444444444,
              "#bd3786"
             ],
             [
              0.5555555555555556,
              "#d8576b"
             ],
             [
              0.6666666666666666,
              "#ed7953"
             ],
             [
              0.7777777777777778,
              "#fb9f3a"
             ],
             [
              0.8888888888888888,
              "#fdca26"
             ],
             [
              1,
              "#f0f921"
             ]
            ],
            "type": "surface"
           }
          ],
          "table": [
           {
            "cells": {
             "fill": {
              "color": "#EBF0F8"
             },
             "line": {
              "color": "white"
             }
            },
            "header": {
             "fill": {
              "color": "#C8D4E3"
             },
             "line": {
              "color": "white"
             }
            },
            "type": "table"
           }
          ]
         },
         "layout": {
          "annotationdefaults": {
           "arrowcolor": "#2a3f5f",
           "arrowhead": 0,
           "arrowwidth": 1
          },
          "autotypenumbers": "strict",
          "coloraxis": {
           "colorbar": {
            "outlinewidth": 0,
            "ticks": ""
           }
          },
          "colorscale": {
           "diverging": [
            [
             0,
             "#8e0152"
            ],
            [
             0.1,
             "#c51b7d"
            ],
            [
             0.2,
             "#de77ae"
            ],
            [
             0.3,
             "#f1b6da"
            ],
            [
             0.4,
             "#fde0ef"
            ],
            [
             0.5,
             "#f7f7f7"
            ],
            [
             0.6,
             "#e6f5d0"
            ],
            [
             0.7,
             "#b8e186"
            ],
            [
             0.8,
             "#7fbc41"
            ],
            [
             0.9,
             "#4d9221"
            ],
            [
             1,
             "#276419"
            ]
           ],
           "sequential": [
            [
             0,
             "#0d0887"
            ],
            [
             0.1111111111111111,
             "#46039f"
            ],
            [
             0.2222222222222222,
             "#7201a8"
            ],
            [
             0.3333333333333333,
             "#9c179e"
            ],
            [
             0.4444444444444444,
             "#bd3786"
            ],
            [
             0.5555555555555556,
             "#d8576b"
            ],
            [
             0.6666666666666666,
             "#ed7953"
            ],
            [
             0.7777777777777778,
             "#fb9f3a"
            ],
            [
             0.8888888888888888,
             "#fdca26"
            ],
            [
             1,
             "#f0f921"
            ]
           ],
           "sequentialminus": [
            [
             0,
             "#0d0887"
            ],
            [
             0.1111111111111111,
             "#46039f"
            ],
            [
             0.2222222222222222,
             "#7201a8"
            ],
            [
             0.3333333333333333,
             "#9c179e"
            ],
            [
             0.4444444444444444,
             "#bd3786"
            ],
            [
             0.5555555555555556,
             "#d8576b"
            ],
            [
             0.6666666666666666,
             "#ed7953"
            ],
            [
             0.7777777777777778,
             "#fb9f3a"
            ],
            [
             0.8888888888888888,
             "#fdca26"
            ],
            [
             1,
             "#f0f921"
            ]
           ]
          },
          "colorway": [
           "#636efa",
           "#EF553B",
           "#00cc96",
           "#ab63fa",
           "#FFA15A",
           "#19d3f3",
           "#FF6692",
           "#B6E880",
           "#FF97FF",
           "#FECB52"
          ],
          "font": {
           "color": "#2a3f5f"
          },
          "geo": {
           "bgcolor": "white",
           "lakecolor": "white",
           "landcolor": "#E5ECF6",
           "showlakes": true,
           "showland": true,
           "subunitcolor": "white"
          },
          "hoverlabel": {
           "align": "left"
          },
          "hovermode": "closest",
          "mapbox": {
           "style": "light"
          },
          "paper_bgcolor": "white",
          "plot_bgcolor": "#E5ECF6",
          "polar": {
           "angularaxis": {
            "gridcolor": "white",
            "linecolor": "white",
            "ticks": ""
           },
           "bgcolor": "#E5ECF6",
           "radialaxis": {
            "gridcolor": "white",
            "linecolor": "white",
            "ticks": ""
           }
          },
          "scene": {
           "xaxis": {
            "backgroundcolor": "#E5ECF6",
            "gridcolor": "white",
            "gridwidth": 2,
            "linecolor": "white",
            "showbackground": true,
            "ticks": "",
            "zerolinecolor": "white"
           },
           "yaxis": {
            "backgroundcolor": "#E5ECF6",
            "gridcolor": "white",
            "gridwidth": 2,
            "linecolor": "white",
            "showbackground": true,
            "ticks": "",
            "zerolinecolor": "white"
           },
           "zaxis": {
            "backgroundcolor": "#E5ECF6",
            "gridcolor": "white",
            "gridwidth": 2,
            "linecolor": "white",
            "showbackground": true,
            "ticks": "",
            "zerolinecolor": "white"
           }
          },
          "shapedefaults": {
           "line": {
            "color": "#2a3f5f"
           }
          },
          "ternary": {
           "aaxis": {
            "gridcolor": "white",
            "linecolor": "white",
            "ticks": ""
           },
           "baxis": {
            "gridcolor": "white",
            "linecolor": "white",
            "ticks": ""
           },
           "bgcolor": "#E5ECF6",
           "caxis": {
            "gridcolor": "white",
            "linecolor": "white",
            "ticks": ""
           }
          },
          "title": {
           "x": 0.05
          },
          "xaxis": {
           "automargin": true,
           "gridcolor": "white",
           "linecolor": "white",
           "ticks": "",
           "title": {
            "standoff": 15
           },
           "zerolinecolor": "white",
           "zerolinewidth": 2
          },
          "yaxis": {
           "automargin": true,
           "gridcolor": "white",
           "linecolor": "white",
           "ticks": "",
           "title": {
            "standoff": 15
           },
           "zerolinecolor": "white",
           "zerolinewidth": 2
          }
         }
        },
        "title": {
         "text": "Target Corp"
        }
       }
      }
     },
     "metadata": {},
     "output_type": "display_data"
    }
   ],
   "source": [
    "metrics = ['ROI', 'Gross_Margin', 'ROS', 'Current Ratio', 'Quick Ratio', 'Asset Turnover', 'Debt-to-Equity']\n",
    "ranges = {\n",
    "    'ROI': (0.05, 0.2),\n",
    "    'Gross_Margin': (0.05, 0.3),\n",
    "    'ROS': (0.01, 0.06),\n",
    "    'Current Ratio': (0.5, 1.5),\n",
    "    'Quick Ratio': (0.2, 0.7),\n",
    "    'Asset Turnover': (1, 4),\n",
    "    'Debt-to-Equity': (0.5, 2.5)\n",
    "}\n",
    "invert = {'Debt-to-Equity'}\n",
    "\n",
    "def normalize(x, a, b, inv=False):\n",
    "    n = max(0, min(1, (x - a) / (b - a)))\n",
    "    return (1 - n if inv else n) * 100\n",
    "\n",
    "df_norm = df[['Company']].copy()\n",
    "for m in metrics:\n",
    "    a, b = ranges[m]\n",
    "    df_norm[m] = df[m].apply(lambda x: normalize(x, a, b, m in invert))\n",
    "\n",
    "cats = metrics + [metrics[0]]\n",
    "for c in ['Walmart', 'Costco', 'Target Corp']:\n",
    "    r = df_norm[df_norm['Company'] == c]\n",
    "    v = r[metrics].values.flatten().tolist()\n",
    "    v += v[:1]\n",
    "    raw = df[df['Company'] == c][metrics].values.flatten().tolist()\n",
    "    raw += raw[:1]\n",
    "    cd = list(zip(cats, raw))\n",
    "    fig = go.Figure(go.Scatterpolar(\n",
    "        r=v,\n",
    "        theta=cats,\n",
    "        fill='toself'\n",
    "    ))\n",
    "    fig.update_layout(\n",
    "        polar=dict(radialaxis=dict(range=[0, 100], visible=False)),\n",
    "        title=c\n",
    "    )\n",
    "    fig.show()"
   ]
  }
 ],
 "metadata": {
  "kernelspec": {
   "display_name": "base",
   "language": "python",
   "name": "python3"
  },
  "language_info": {
   "codemirror_mode": {
    "name": "ipython",
    "version": 3
   },
   "file_extension": ".py",
   "mimetype": "text/x-python",
   "name": "python",
   "nbconvert_exporter": "python",
   "pygments_lexer": "ipython3",
   "version": "3.12.7"
  }
 },
 "nbformat": 4,
 "nbformat_minor": 5
}
